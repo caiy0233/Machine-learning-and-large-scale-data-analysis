{
 "cells": [
  {
   "cell_type": "markdown",
   "metadata": {},
   "source": [
    "**Machine Learning and Large Scale Data Analysis**\n",
    "\n"
   ]
  },
  {
   "cell_type": "markdown",
   "metadata": {},
   "source": [
    "**HW1 Q6** "
   ]
  },
  {
   "cell_type": "markdown",
   "metadata": {},
   "source": [
    "**by Ying Cai**"
   ]
  },
  {
   "cell_type": "code",
   "execution_count": 1,
   "metadata": {},
   "outputs": [],
   "source": [
    "import json  \n",
    "import pandas as pd\n",
    "import numpy as np\n",
    "from nltk.tokenize import sent_tokenize\n",
    "from nltk.tokenize import word_tokenize\n",
    "import matplotlib.pyplot as plt"
   ]
  },
  {
   "cell_type": "code",
   "execution_count": 2,
   "metadata": {},
   "outputs": [],
   "source": [
    "with open(r'D:\\UC\\19S\\ML&LSD\\speeches.json', 'r') as f:\n",
    "    speeches = json.loads(f.read())"
   ]
  },
  {
   "cell_type": "code",
   "execution_count": 11,
   "metadata": {},
   "outputs": [
    {
     "data": {
      "text/html": [
       "<div>\n",
       "<style scoped>\n",
       "    .dataframe tbody tr th:only-of-type {\n",
       "        vertical-align: middle;\n",
       "    }\n",
       "\n",
       "    .dataframe tbody tr th {\n",
       "        vertical-align: top;\n",
       "    }\n",
       "\n",
       "    .dataframe thead th {\n",
       "        text-align: right;\n",
       "    }\n",
       "</style>\n",
       "<table border=\"1\" class=\"dataframe\">\n",
       "  <thead>\n",
       "    <tr style=\"text-align: right;\">\n",
       "      <th></th>\n",
       "      <th>president</th>\n",
       "      <th>text</th>\n",
       "      <th>year</th>\n",
       "    </tr>\n",
       "  </thead>\n",
       "  <tbody>\n",
       "    <tr>\n",
       "      <th>count</th>\n",
       "      <td>226</td>\n",
       "      <td>226</td>\n",
       "      <td>226</td>\n",
       "    </tr>\n",
       "    <tr>\n",
       "      <th>unique</th>\n",
       "      <td>41</td>\n",
       "      <td>226</td>\n",
       "      <td>223</td>\n",
       "    </tr>\n",
       "    <tr>\n",
       "      <th>top</th>\n",
       "      <td>Franklin D. Roosevelt</td>\n",
       "      <td>Mr. Speaker, Mr. President, distinguished Memb...</td>\n",
       "      <td>1981</td>\n",
       "    </tr>\n",
       "    <tr>\n",
       "      <th>freq</th>\n",
       "      <td>12</td>\n",
       "      <td>1</td>\n",
       "      <td>2</td>\n",
       "    </tr>\n",
       "  </tbody>\n",
       "</table>\n",
       "</div>"
      ],
      "text/plain": [
       "                    president  \\\n",
       "count                     226   \n",
       "unique                     41   \n",
       "top     Franklin D. Roosevelt   \n",
       "freq                       12   \n",
       "\n",
       "                                                     text  year  \n",
       "count                                                 226   226  \n",
       "unique                                                226   223  \n",
       "top     Mr. Speaker, Mr. President, distinguished Memb...  1981  \n",
       "freq                                                    1     2  "
      ]
     },
     "execution_count": 11,
     "metadata": {},
     "output_type": "execute_result"
    }
   ],
   "source": [
    "df = pd.DataFrame.from_dict(speeches, orient='columns')\n",
    "df.describe()"
   ]
  },
  {
   "cell_type": "markdown",
   "metadata": {},
   "source": [
    "**(a)**"
   ]
  },
  {
   "cell_type": "code",
   "execution_count": 4,
   "metadata": {},
   "outputs": [],
   "source": [
    "def countsent(text):\n",
    "    sent_list = sent_tokenize(text)\n",
    "    n_sent=len(sent_list)\n",
    "    avg_len_sent=len(word_tokenize(text))/n_sent\n",
    "    return n_sent,avg_len_sent\n",
    "\n",
    "    "
   ]
  },
  {
   "cell_type": "code",
   "execution_count": 5,
   "metadata": {},
   "outputs": [],
   "source": [
    "df[\"n_sent\"]=0.0\n",
    "df[\"avg_len\"]=0.0"
   ]
  },
  {
   "cell_type": "code",
   "execution_count": 15,
   "metadata": {},
   "outputs": [],
   "source": [
    "i=0\n",
    "while i <226:\n",
    "    x,y=countsent(df[\"text\"].values[i])\n",
    "    df.at[i,\"n_sent\"] = x\n",
    "    df.at[i,\"avg_len\"] = y\n",
    "    i=i+1\n"
   ]
  },
  {
   "cell_type": "code",
   "execution_count": 18,
   "metadata": {},
   "outputs": [],
   "source": [
    "df[\"year\"] = pd.to_numeric(df[\"year\"])"
   ]
  },
  {
   "cell_type": "code",
   "execution_count": 37,
   "metadata": {},
   "outputs": [
    {
     "data": {
      "text/html": [
       "<div>\n",
       "<style scoped>\n",
       "    .dataframe tbody tr th:only-of-type {\n",
       "        vertical-align: middle;\n",
       "    }\n",
       "\n",
       "    .dataframe tbody tr th {\n",
       "        vertical-align: top;\n",
       "    }\n",
       "\n",
       "    .dataframe thead th {\n",
       "        text-align: right;\n",
       "    }\n",
       "</style>\n",
       "<table border=\"1\" class=\"dataframe\">\n",
       "  <thead>\n",
       "    <tr style=\"text-align: right;\">\n",
       "      <th></th>\n",
       "      <th>president</th>\n",
       "      <th>text</th>\n",
       "      <th>year</th>\n",
       "      <th>n_sent</th>\n",
       "      <th>avg_len</th>\n",
       "      <th>constant</th>\n",
       "    </tr>\n",
       "  </thead>\n",
       "  <tbody>\n",
       "    <tr>\n",
       "      <th>155</th>\n",
       "      <td>Harry S Truman</td>\n",
       "      <td>[\\r\\n\\r\\nReleased January 21, 1946. Dated Janu...</td>\n",
       "      <td>1946</td>\n",
       "      <td>1265.0</td>\n",
       "      <td>24.252964</td>\n",
       "      <td>1</td>\n",
       "    </tr>\n",
       "    <tr>\n",
       "      <th>193</th>\n",
       "      <td>Jimmy Carter</td>\n",
       "      <td>To the Congress of the United States:  \\r\\n\\r\\...</td>\n",
       "      <td>1981</td>\n",
       "      <td>1349.0</td>\n",
       "      <td>27.405486</td>\n",
       "      <td>1</td>\n",
       "    </tr>\n",
       "  </tbody>\n",
       "</table>\n",
       "</div>"
      ],
      "text/plain": [
       "          president                                               text  year  \\\n",
       "155  Harry S Truman  [\\r\\n\\r\\nReleased January 21, 1946. Dated Janu...  1946   \n",
       "193    Jimmy Carter  To the Congress of the United States:  \\r\\n\\r\\...  1981   \n",
       "\n",
       "     n_sent    avg_len  constant  \n",
       "155  1265.0  24.252964         1  \n",
       "193  1349.0  27.405486         1  "
      ]
     },
     "execution_count": 37,
     "metadata": {},
     "output_type": "execute_result"
    }
   ],
   "source": [
    "df.loc[df[\"n_sent\"] >1000]"
   ]
  },
  {
   "cell_type": "markdown",
   "metadata": {},
   "source": [
    "**(b)**"
   ]
  },
  {
   "cell_type": "code",
   "execution_count": 25,
   "metadata": {},
   "outputs": [
    {
     "data": {
      "image/png": "[encoded data removed]",
      "text/plain": [
       "<Figure size 432x288 with 1 Axes>"
      ]
     },
     "metadata": {
      "needs_background": "light"
     },
     "output_type": "display_data"
    }
   ],
   "source": [
    "%matplotlib inline\n",
    "df[\"constant\"]=1\n",
    "x,y,z=df[[\"year\",\"constant\"]],df[\"n_sent\"],df[\"avg_len\"]\n",
    "beta1=np.dot(np.dot(np.linalg.inv(np.dot(x.transpose(),x)),x.transpose()),y)\n",
    "k1,b1=beta1\n",
    "fit1=lambda x: k1*x+b1\n",
    "plt.plot(df[\"year\"],df[\"n_sent\"], 'ro',df[\"year\"],fit1(df[\"year\"]),\"--k\")\n",
    "plt.xlabel(\"year\")\n",
    "plt.ylabel(\"number of sentences\")\n",
    "plt.title(\"relationship between the year and number of sentences\")\n",
    "plt.show()"
   ]
  },
  {
   "cell_type": "code",
   "execution_count": 38,
   "metadata": {},
   "outputs": [
    {
     "data": {
      "text/html": [
       "<div>\n",
       "<style scoped>\n",
       "    .dataframe tbody tr th:only-of-type {\n",
       "        vertical-align: middle;\n",
       "    }\n",
       "\n",
       "    .dataframe tbody tr th {\n",
       "        vertical-align: top;\n",
       "    }\n",
       "\n",
       "    .dataframe thead th {\n",
       "        text-align: right;\n",
       "    }\n",
       "</style>\n",
       "<table border=\"1\" class=\"dataframe\">\n",
       "  <thead>\n",
       "    <tr style=\"text-align: right;\">\n",
       "      <th></th>\n",
       "      <th>president</th>\n",
       "      <th>text</th>\n",
       "      <th>year</th>\n",
       "      <th>n_sent</th>\n",
       "      <th>avg_len</th>\n",
       "      <th>constant</th>\n",
       "    </tr>\n",
       "  </thead>\n",
       "  <tbody>\n",
       "    <tr>\n",
       "      <th>155</th>\n",
       "      <td>Harry S Truman</td>\n",
       "      <td>[\\r\\n\\r\\nReleased January 21, 1946. Dated Janu...</td>\n",
       "      <td>1946</td>\n",
       "      <td>1265.0</td>\n",
       "      <td>24.252964</td>\n",
       "      <td>1</td>\n",
       "    </tr>\n",
       "    <tr>\n",
       "      <th>193</th>\n",
       "      <td>Jimmy Carter</td>\n",
       "      <td>To the Congress of the United States:  \\r\\n\\r\\...</td>\n",
       "      <td>1981</td>\n",
       "      <td>1349.0</td>\n",
       "      <td>27.405486</td>\n",
       "      <td>1</td>\n",
       "    </tr>\n",
       "  </tbody>\n",
       "</table>\n",
       "</div>"
      ],
      "text/plain": [
       "          president                                               text  year  \\\n",
       "155  Harry S Truman  [\\r\\n\\r\\nReleased January 21, 1946. Dated Janu...  1946   \n",
       "193    Jimmy Carter  To the Congress of the United States:  \\r\\n\\r\\...  1981   \n",
       "\n",
       "     n_sent    avg_len  constant  \n",
       "155  1265.0  24.252964         1  \n",
       "193  1349.0  27.405486         1  "
      ]
     },
     "execution_count": 38,
     "metadata": {},
     "output_type": "execute_result"
    }
   ],
   "source": [
    "df.loc[df[\"n_sent\"] >1000]"
   ]
  },
  {
   "cell_type": "code",
   "execution_count": 26,
   "metadata": {},
   "outputs": [
    {
     "data": {
      "image/png": "[encoded data removed]",
      "text/plain": [
       "<Figure size 432x288 with 1 Axes>"
      ]
     },
     "metadata": {
      "needs_background": "light"
     },
     "output_type": "display_data"
    }
   ],
   "source": [
    "beta2=np.dot(np.dot(np.linalg.inv(np.dot(x.transpose(),x)),x.transpose()),z)\n",
    "k2,b2=beta2\n",
    "fit2=lambda x: k2*x+b2\n",
    "plt.plot(df[\"year\"],df[\"avg_len\"], 'go',df[\"year\"],fit2(df[\"year\"]),\"--k\")\n",
    "plt.xlabel(\"year\")\n",
    "plt.ylabel(\"mean sentence length\")\n",
    "plt.title(\"relationship between the year and  mean sentence length\")\n",
    "plt.show()"
   ]
  },
  {
   "cell_type": "markdown",
   "metadata": {},
   "source": [
    "From above graphs we can see that the number of sentences in address increases slowly and the mean sentence length in words decreases in gerenal as time goes by.Two outliers of the number of sentences are year 1946 by Harry S Trueman and year 1981 by Jimmy Carter. The 1946 address combined both State of the Union Message and the Budget and the 1981 address was in written form, partly having explained the surprising length of them.The reason of such phenomenon might be respectively that more things need to be included in the address and that people prefer conciseness more as time goes by. "
   ]
  },
  {
   "cell_type": "markdown",
   "metadata": {},
   "source": [
    "**(c)**"
   ]
  },
  {
   "cell_type": "code",
   "execution_count": 41,
   "metadata": {},
   "outputs": [],
   "source": [
    "def countword(text):\n",
    "    n_word = len(word_tokenize(text))\n",
    "    return n_word"
   ]
  },
  {
   "cell_type": "code",
   "execution_count": 42,
   "metadata": {},
   "outputs": [],
   "source": [
    "df[\"n_word\"]=0.0\n",
    "i=0\n",
    "while i <226:\n",
    "    n=countword(df[\"text\"].values[i])\n",
    "    df.at[i,\"n_word\"] = n\n",
    "    i=i+1"
   ]
  },
  {
   "cell_type": "code",
   "execution_count": 43,
   "metadata": {},
   "outputs": [
    {
     "data": {
      "text/html": [
       "<div>\n",
       "<style scoped>\n",
       "    .dataframe tbody tr th:only-of-type {\n",
       "        vertical-align: middle;\n",
       "    }\n",
       "\n",
       "    .dataframe tbody tr th {\n",
       "        vertical-align: top;\n",
       "    }\n",
       "\n",
       "    .dataframe thead th {\n",
       "        text-align: right;\n",
       "    }\n",
       "</style>\n",
       "<table border=\"1\" class=\"dataframe\">\n",
       "  <thead>\n",
       "    <tr style=\"text-align: right;\">\n",
       "      <th></th>\n",
       "      <th>president</th>\n",
       "      <th>text</th>\n",
       "      <th>year</th>\n",
       "      <th>n_sent</th>\n",
       "      <th>avg_len</th>\n",
       "      <th>constant</th>\n",
       "      <th>n_word</th>\n",
       "    </tr>\n",
       "  </thead>\n",
       "  <tbody>\n",
       "    <tr>\n",
       "      <th>0</th>\n",
       "      <td>George Washington</td>\n",
       "      <td>Fellow-Citizens of the Senate and House of Re...</td>\n",
       "      <td>1790</td>\n",
       "      <td>40.0</td>\n",
       "      <td>37.600000</td>\n",
       "      <td>1</td>\n",
       "      <td>1504.0</td>\n",
       "    </tr>\n",
       "    <tr>\n",
       "      <th>1</th>\n",
       "      <td>George Washington</td>\n",
       "      <td>Fellow-Citizens of the Senate and House of Re...</td>\n",
       "      <td>1791</td>\n",
       "      <td>60.0</td>\n",
       "      <td>41.216667</td>\n",
       "      <td>1</td>\n",
       "      <td>2473.0</td>\n",
       "    </tr>\n",
       "    <tr>\n",
       "      <th>2</th>\n",
       "      <td>George Washington</td>\n",
       "      <td>Fellow-Citizens of the Senate and House of Rep...</td>\n",
       "      <td>1792</td>\n",
       "      <td>61.0</td>\n",
       "      <td>37.491803</td>\n",
       "      <td>1</td>\n",
       "      <td>2287.0</td>\n",
       "    </tr>\n",
       "    <tr>\n",
       "      <th>3</th>\n",
       "      <td>George Washington</td>\n",
       "      <td>Fellow-Citizens of the Senate and House of Re...</td>\n",
       "      <td>1793</td>\n",
       "      <td>55.0</td>\n",
       "      <td>38.545455</td>\n",
       "      <td>1</td>\n",
       "      <td>2120.0</td>\n",
       "    </tr>\n",
       "    <tr>\n",
       "      <th>4</th>\n",
       "      <td>George Washington</td>\n",
       "      <td>Fellow-Citizens of the Senate and House of Re...</td>\n",
       "      <td>1794</td>\n",
       "      <td>80.0</td>\n",
       "      <td>40.012500</td>\n",
       "      <td>1</td>\n",
       "      <td>3201.0</td>\n",
       "    </tr>\n",
       "  </tbody>\n",
       "</table>\n",
       "</div>"
      ],
      "text/plain": [
       "           president                                               text  year  \\\n",
       "0  George Washington   Fellow-Citizens of the Senate and House of Re...  1790   \n",
       "1  George Washington   Fellow-Citizens of the Senate and House of Re...  1791   \n",
       "2  George Washington  Fellow-Citizens of the Senate and House of Rep...  1792   \n",
       "3  George Washington   Fellow-Citizens of the Senate and House of Re...  1793   \n",
       "4  George Washington   Fellow-Citizens of the Senate and House of Re...  1794   \n",
       "\n",
       "   n_sent    avg_len  constant  n_word  \n",
       "0    40.0  37.600000         1  1504.0  \n",
       "1    60.0  41.216667         1  2473.0  \n",
       "2    61.0  37.491803         1  2287.0  \n",
       "3    55.0  38.545455         1  2120.0  \n",
       "4    80.0  40.012500         1  3201.0  "
      ]
     },
     "execution_count": 43,
     "metadata": {},
     "output_type": "execute_result"
    }
   ],
   "source": [
    "df.head()"
   ]
  },
  {
   "cell_type": "code",
   "execution_count": 44,
   "metadata": {},
   "outputs": [
    {
     "data": {
      "text/html": [
       "<div>\n",
       "<style scoped>\n",
       "    .dataframe tbody tr th:only-of-type {\n",
       "        vertical-align: middle;\n",
       "    }\n",
       "\n",
       "    .dataframe tbody tr th {\n",
       "        vertical-align: top;\n",
       "    }\n",
       "\n",
       "    .dataframe thead th {\n",
       "        text-align: right;\n",
       "    }\n",
       "</style>\n",
       "<table border=\"1\" class=\"dataframe\">\n",
       "  <thead>\n",
       "    <tr style=\"text-align: right;\">\n",
       "      <th></th>\n",
       "      <th>year</th>\n",
       "      <th>n_sent</th>\n",
       "      <th>avg_len</th>\n",
       "      <th>constant</th>\n",
       "      <th>n_word</th>\n",
       "    </tr>\n",
       "  </thead>\n",
       "  <tbody>\n",
       "    <tr>\n",
       "      <th>count</th>\n",
       "      <td>123.000000</td>\n",
       "      <td>123.000000</td>\n",
       "      <td>123.000000</td>\n",
       "      <td>123.0</td>\n",
       "      <td>123.000000</td>\n",
       "    </tr>\n",
       "    <tr>\n",
       "      <th>mean</th>\n",
       "      <td>1851.000000</td>\n",
       "      <td>283.626016</td>\n",
       "      <td>39.726058</td>\n",
       "      <td>1.0</td>\n",
       "      <td>10784.528455</td>\n",
       "    </tr>\n",
       "    <tr>\n",
       "      <th>std</th>\n",
       "      <td>35.651087</td>\n",
       "      <td>192.548670</td>\n",
       "      <td>5.007778</td>\n",
       "      <td>0.0</td>\n",
       "      <td>6783.573062</td>\n",
       "    </tr>\n",
       "    <tr>\n",
       "      <th>min</th>\n",
       "      <td>1790.000000</td>\n",
       "      <td>36.000000</td>\n",
       "      <td>29.228840</td>\n",
       "      <td>1.0</td>\n",
       "      <td>1489.000000</td>\n",
       "    </tr>\n",
       "    <tr>\n",
       "      <th>25%</th>\n",
       "      <td>1820.500000</td>\n",
       "      <td>123.500000</td>\n",
       "      <td>36.315891</td>\n",
       "      <td>1.0</td>\n",
       "      <td>5109.500000</td>\n",
       "    </tr>\n",
       "    <tr>\n",
       "      <th>50%</th>\n",
       "      <td>1851.000000</td>\n",
       "      <td>265.000000</td>\n",
       "      <td>38.643777</td>\n",
       "      <td>1.0</td>\n",
       "      <td>10018.000000</td>\n",
       "    </tr>\n",
       "    <tr>\n",
       "      <th>75%</th>\n",
       "      <td>1881.500000</td>\n",
       "      <td>390.000000</td>\n",
       "      <td>42.748817</td>\n",
       "      <td>1.0</td>\n",
       "      <td>14458.500000</td>\n",
       "    </tr>\n",
       "    <tr>\n",
       "      <th>max</th>\n",
       "      <td>1912.000000</td>\n",
       "      <td>856.000000</td>\n",
       "      <td>56.300000</td>\n",
       "      <td>1.0</td>\n",
       "      <td>29900.000000</td>\n",
       "    </tr>\n",
       "  </tbody>\n",
       "</table>\n",
       "</div>"
      ],
      "text/plain": [
       "              year      n_sent     avg_len  constant        n_word\n",
       "count   123.000000  123.000000  123.000000     123.0    123.000000\n",
       "mean   1851.000000  283.626016   39.726058       1.0  10784.528455\n",
       "std      35.651087  192.548670    5.007778       0.0   6783.573062\n",
       "min    1790.000000   36.000000   29.228840       1.0   1489.000000\n",
       "25%    1820.500000  123.500000   36.315891       1.0   5109.500000\n",
       "50%    1851.000000  265.000000   38.643777       1.0  10018.000000\n",
       "75%    1881.500000  390.000000   42.748817       1.0  14458.500000\n",
       "max    1912.000000  856.000000   56.300000       1.0  29900.000000"
      ]
     },
     "execution_count": 44,
     "metadata": {},
     "output_type": "execute_result"
    }
   ],
   "source": [
    "df1=df[df[\"year\"]<=1912]\n",
    "df2=df[df[\"year\"]>1912]"
   ]
  },
  {
   "cell_type": "code",
   "execution_count": 45,
   "metadata": {},
   "outputs": [
    {
     "data": {
      "image/png": "[encoded data removed]",
      "text/plain": [
       "<Figure size 432x288 with 1 Axes>"
      ]
     },
     "metadata": {
      "needs_background": "light"
     },
     "output_type": "display_data"
    }
   ],
   "source": [
    "x1,y1=df1[[\"year\",\"constant\"]],df1[\"n_word\"]\n",
    "beta3=np.dot(np.dot(np.linalg.inv(np.dot(x1.transpose(),x1)),x1.transpose()),y1)\n",
    "k3,b3=beta3\n",
    "fit3=lambda x: k3*x+b3\n",
    "plt.plot(df1[\"year\"],df1[\"n_word\"], 'bo',df1[\"year\"],fit3(df1[\"year\"]),\"--k\")\n",
    "plt.xlabel(\"year\")\n",
    "plt.ylabel(\"number of words\")\n",
    "plt.title(\"relationship between the year and number of words from 1790 to 1912\")\n",
    "plt.show()"
   ]
  },
  {
   "cell_type": "code",
   "execution_count": 46,
   "metadata": {},
   "outputs": [
    {
     "data": {
      "image/png": "[encoded data removed]",
      "text/plain": [
       "<Figure size 432x288 with 1 Axes>"
      ]
     },
     "metadata": {
      "needs_background": "light"
     },
     "output_type": "display_data"
    }
   ],
   "source": [
    "x2,y2=df2[[\"year\",\"constant\"]],df2[\"n_word\"]\n",
    "beta4=np.dot(np.dot(np.linalg.inv(np.dot(x2.transpose(),x2)),x2.transpose()),y2)\n",
    "k4,b4=beta4\n",
    "fit4=lambda x: k4*x+b4\n",
    "plt.plot(df2[\"year\"],df2[\"n_word\"], 'yo',df2[\"year\"],fit4(df2[\"year\"]),\"--k\")\n",
    "plt.xlabel(\"year\")\n",
    "plt.ylabel(\"number of words\")\n",
    "plt.title(\"relationship between the year and number of words from after 1912\")\n",
    "plt.show()"
   ]
  },
  {
   "cell_type": "markdown",
   "metadata": {},
   "source": [
    "In general, the number of words in the address increased with time rather steadily before 1912 yet its increasing trend became very slight after 1912 if we negelect the two outliers —— 1946 and 1981. From 1801 to 1912, the address was ususally delivered in written form, which allows longer text and more details.After 1913 Woodrow Wilson re-established the practice of delivering the address in-person and orally, which requires the content not to be too long, otherwise the attention of audiences would get distracted. "
   ]
  },
  {
   "cell_type": "markdown",
   "metadata": {},
   "source": [
    "**(d)**"
   ]
  },
  {
   "cell_type": "code",
   "execution_count": 48,
   "metadata": {},
   "outputs": [],
   "source": [
    "dfpre=df.groupby(\"president\").mean()"
   ]
  },
  {
   "cell_type": "code",
   "execution_count": 53,
   "metadata": {},
   "outputs": [
    {
     "data": {
      "text/html": [
       "<div>\n",
       "<style scoped>\n",
       "    .dataframe tbody tr th:only-of-type {\n",
       "        vertical-align: middle;\n",
       "    }\n",
       "\n",
       "    .dataframe tbody tr th {\n",
       "        vertical-align: top;\n",
       "    }\n",
       "\n",
       "    .dataframe thead th {\n",
       "        text-align: right;\n",
       "    }\n",
       "</style>\n",
       "<table border=\"1\" class=\"dataframe\">\n",
       "  <thead>\n",
       "    <tr style=\"text-align: right;\">\n",
       "      <th></th>\n",
       "      <th>year</th>\n",
       "      <th>n_sent</th>\n",
       "      <th>avg_len</th>\n",
       "      <th>constant</th>\n",
       "      <th>n_word</th>\n",
       "    </tr>\n",
       "  </thead>\n",
       "  <tbody>\n",
       "    <tr>\n",
       "      <th>count</th>\n",
       "      <td>41.000000</td>\n",
       "      <td>41.000000</td>\n",
       "      <td>41.000000</td>\n",
       "      <td>41.0</td>\n",
       "      <td>41.000000</td>\n",
       "    </tr>\n",
       "    <tr>\n",
       "      <th>mean</th>\n",
       "      <td>1899.231707</td>\n",
       "      <td>288.952913</td>\n",
       "      <td>33.206763</td>\n",
       "      <td>1.0</td>\n",
       "      <td>9343.341667</td>\n",
       "    </tr>\n",
       "    <tr>\n",
       "      <th>std</th>\n",
       "      <td>63.422994</td>\n",
       "      <td>144.753144</td>\n",
       "      <td>8.474628</td>\n",
       "      <td>0.0</td>\n",
       "      <td>5319.195296</td>\n",
       "    </tr>\n",
       "    <tr>\n",
       "      <th>min</th>\n",
       "      <td>1793.000000</td>\n",
       "      <td>47.500000</td>\n",
       "      <td>19.957240</td>\n",
       "      <td>1.0</td>\n",
       "      <td>1929.250000</td>\n",
       "    </tr>\n",
       "    <tr>\n",
       "      <th>25%</th>\n",
       "      <td>1849.000000</td>\n",
       "      <td>216.000000</td>\n",
       "      <td>23.619416</td>\n",
       "      <td>1.0</td>\n",
       "      <td>5483.833333</td>\n",
       "    </tr>\n",
       "    <tr>\n",
       "      <th>50%</th>\n",
       "      <td>1890.500000</td>\n",
       "      <td>261.750000</td>\n",
       "      <td>34.861680</td>\n",
       "      <td>1.0</td>\n",
       "      <td>8355.000000</td>\n",
       "    </tr>\n",
       "    <tr>\n",
       "      <th>75%</th>\n",
       "      <td>1957.000000</td>\n",
       "      <td>387.625000</td>\n",
       "      <td>39.879426</td>\n",
       "      <td>1.0</td>\n",
       "      <td>11433.875000</td>\n",
       "    </tr>\n",
       "    <tr>\n",
       "      <th>max</th>\n",
       "      <td>2011.000000</td>\n",
       "      <td>666.500000</td>\n",
       "      <td>47.920307</td>\n",
       "      <td>1.0</td>\n",
       "      <td>24430.250000</td>\n",
       "    </tr>\n",
       "  </tbody>\n",
       "</table>\n",
       "</div>"
      ],
      "text/plain": [
       "              year      n_sent    avg_len  constant        n_word\n",
       "count    41.000000   41.000000  41.000000      41.0     41.000000\n",
       "mean   1899.231707  288.952913  33.206763       1.0   9343.341667\n",
       "std      63.422994  144.753144   8.474628       0.0   5319.195296\n",
       "min    1793.000000   47.500000  19.957240       1.0   1929.250000\n",
       "25%    1849.000000  216.000000  23.619416       1.0   5483.833333\n",
       "50%    1890.500000  261.750000  34.861680       1.0   8355.000000\n",
       "75%    1957.000000  387.625000  39.879426       1.0  11433.875000\n",
       "max    2011.000000  666.500000  47.920307       1.0  24430.250000"
      ]
     },
     "execution_count": 53,
     "metadata": {},
     "output_type": "execute_result"
    }
   ],
   "source": [
    "dfpre.describe()"
   ]
  },
  {
   "cell_type": "code",
   "execution_count": 55,
   "metadata": {},
   "outputs": [
    {
     "data": {
      "text/html": [
       "<div>\n",
       "<style scoped>\n",
       "    .dataframe tbody tr th:only-of-type {\n",
       "        vertical-align: middle;\n",
       "    }\n",
       "\n",
       "    .dataframe tbody tr th {\n",
       "        vertical-align: top;\n",
       "    }\n",
       "\n",
       "    .dataframe thead th {\n",
       "        text-align: right;\n",
       "    }\n",
       "</style>\n",
       "<table border=\"1\" class=\"dataframe\">\n",
       "  <thead>\n",
       "    <tr style=\"text-align: right;\">\n",
       "      <th></th>\n",
       "      <th>year</th>\n",
       "      <th>n_sent</th>\n",
       "      <th>avg_len</th>\n",
       "      <th>constant</th>\n",
       "      <th>n_word</th>\n",
       "    </tr>\n",
       "    <tr>\n",
       "      <th>president</th>\n",
       "      <th></th>\n",
       "      <th></th>\n",
       "      <th></th>\n",
       "      <th></th>\n",
       "      <th></th>\n",
       "    </tr>\n",
       "  </thead>\n",
       "  <tbody>\n",
       "    <tr>\n",
       "      <th>James Madison</th>\n",
       "      <td>1812.5</td>\n",
       "      <td>61.25</td>\n",
       "      <td>47.920307</td>\n",
       "      <td>1.0</td>\n",
       "      <td>2909.375</td>\n",
       "    </tr>\n",
       "  </tbody>\n",
       "</table>\n",
       "</div>"
      ],
      "text/plain": [
       "                 year  n_sent    avg_len  constant    n_word\n",
       "president                                                   \n",
       "James Madison  1812.5   61.25  47.920307       1.0  2909.375"
      ]
     },
     "execution_count": 55,
     "metadata": {},
     "output_type": "execute_result"
    }
   ],
   "source": [
    "dfpre[dfpre[\"avg_len\"]==dfpre[\"avg_len\"].max()]"
   ]
  },
  {
   "cell_type": "code",
   "execution_count": 52,
   "metadata": {},
   "outputs": [
    {
     "data": {
      "text/html": [
       "<div>\n",
       "<style scoped>\n",
       "    .dataframe tbody tr th:only-of-type {\n",
       "        vertical-align: middle;\n",
       "    }\n",
       "\n",
       "    .dataframe tbody tr th {\n",
       "        vertical-align: top;\n",
       "    }\n",
       "\n",
       "    .dataframe thead th {\n",
       "        text-align: right;\n",
       "    }\n",
       "</style>\n",
       "<table border=\"1\" class=\"dataframe\">\n",
       "  <thead>\n",
       "    <tr style=\"text-align: right;\">\n",
       "      <th></th>\n",
       "      <th>year</th>\n",
       "      <th>n_sent</th>\n",
       "      <th>avg_len</th>\n",
       "      <th>constant</th>\n",
       "      <th>n_word</th>\n",
       "    </tr>\n",
       "    <tr>\n",
       "      <th>president</th>\n",
       "      <th></th>\n",
       "      <th></th>\n",
       "      <th></th>\n",
       "      <th></th>\n",
       "      <th></th>\n",
       "    </tr>\n",
       "  </thead>\n",
       "  <tbody>\n",
       "    <tr>\n",
       "      <th>George Bush</th>\n",
       "      <td>1990.5</td>\n",
       "      <td>258.25</td>\n",
       "      <td>19.95724</td>\n",
       "      <td>1.0</td>\n",
       "      <td>5088.25</td>\n",
       "    </tr>\n",
       "  </tbody>\n",
       "</table>\n",
       "</div>"
      ],
      "text/plain": [
       "               year  n_sent   avg_len  constant   n_word\n",
       "president                                               \n",
       "George Bush  1990.5  258.25  19.95724       1.0  5088.25"
      ]
     },
     "execution_count": 52,
     "metadata": {},
     "output_type": "execute_result"
    }
   ],
   "source": [
    "dfpre[dfpre[\"avg_len\"]==dfpre[\"avg_len\"].min()]"
   ]
  },
  {
   "cell_type": "code",
   "execution_count": 56,
   "metadata": {},
   "outputs": [
    {
     "data": {
      "text/html": [
       "<div>\n",
       "<style scoped>\n",
       "    .dataframe tbody tr th:only-of-type {\n",
       "        vertical-align: middle;\n",
       "    }\n",
       "\n",
       "    .dataframe tbody tr th {\n",
       "        vertical-align: top;\n",
       "    }\n",
       "\n",
       "    .dataframe thead th {\n",
       "        text-align: right;\n",
       "    }\n",
       "</style>\n",
       "<table border=\"1\" class=\"dataframe\">\n",
       "  <thead>\n",
       "    <tr style=\"text-align: right;\">\n",
       "      <th></th>\n",
       "      <th>year</th>\n",
       "      <th>n_sent</th>\n",
       "      <th>avg_len</th>\n",
       "      <th>constant</th>\n",
       "      <th>n_word</th>\n",
       "    </tr>\n",
       "    <tr>\n",
       "      <th>president</th>\n",
       "      <th></th>\n",
       "      <th></th>\n",
       "      <th></th>\n",
       "      <th></th>\n",
       "      <th></th>\n",
       "    </tr>\n",
       "  </thead>\n",
       "  <tbody>\n",
       "    <tr>\n",
       "      <th>Calvin Coolidge</th>\n",
       "      <td>1925.5</td>\n",
       "      <td>398.166667</td>\n",
       "      <td>23.619416</td>\n",
       "      <td>1.0</td>\n",
       "      <td>9363.5</td>\n",
       "    </tr>\n",
       "  </tbody>\n",
       "</table>\n",
       "</div>"
      ],
      "text/plain": [
       "                   year      n_sent    avg_len  constant  n_word\n",
       "president                                                       \n",
       "Calvin Coolidge  1925.5  398.166667  23.619416       1.0  9363.5"
      ]
     },
     "execution_count": 56,
     "metadata": {},
     "output_type": "execute_result"
    }
   ],
   "source": [
    "dfpre[dfpre[\"avg_len\"]==dfpre[\"avg_len\"].quantile(0.25)]"
   ]
  },
  {
   "cell_type": "code",
   "execution_count": 57,
   "metadata": {},
   "outputs": [
    {
     "data": {
      "text/html": [
       "<div>\n",
       "<style scoped>\n",
       "    .dataframe tbody tr th:only-of-type {\n",
       "        vertical-align: middle;\n",
       "    }\n",
       "\n",
       "    .dataframe tbody tr th {\n",
       "        vertical-align: top;\n",
       "    }\n",
       "\n",
       "    .dataframe thead th {\n",
       "        text-align: right;\n",
       "    }\n",
       "</style>\n",
       "<table border=\"1\" class=\"dataframe\">\n",
       "  <thead>\n",
       "    <tr style=\"text-align: right;\">\n",
       "      <th></th>\n",
       "      <th>year</th>\n",
       "      <th>n_sent</th>\n",
       "      <th>avg_len</th>\n",
       "      <th>constant</th>\n",
       "      <th>n_word</th>\n",
       "    </tr>\n",
       "    <tr>\n",
       "      <th>president</th>\n",
       "      <th></th>\n",
       "      <th></th>\n",
       "      <th></th>\n",
       "      <th></th>\n",
       "      <th></th>\n",
       "    </tr>\n",
       "  </thead>\n",
       "  <tbody>\n",
       "    <tr>\n",
       "      <th>Benjamin Harrison</th>\n",
       "      <td>1890.5</td>\n",
       "      <td>421.75</td>\n",
       "      <td>34.86168</td>\n",
       "      <td>1.0</td>\n",
       "      <td>14741.5</td>\n",
       "    </tr>\n",
       "  </tbody>\n",
       "</table>\n",
       "</div>"
      ],
      "text/plain": [
       "                     year  n_sent   avg_len  constant   n_word\n",
       "president                                                     \n",
       "Benjamin Harrison  1890.5  421.75  34.86168       1.0  14741.5"
      ]
     },
     "execution_count": 57,
     "metadata": {},
     "output_type": "execute_result"
    }
   ],
   "source": [
    "dfpre[dfpre[\"avg_len\"]==dfpre[\"avg_len\"].quantile(0.5)]"
   ]
  },
  {
   "cell_type": "code",
   "execution_count": 58,
   "metadata": {},
   "outputs": [
    {
     "data": {
      "text/html": [
       "<div>\n",
       "<style scoped>\n",
       "    .dataframe tbody tr th:only-of-type {\n",
       "        vertical-align: middle;\n",
       "    }\n",
       "\n",
       "    .dataframe tbody tr th {\n",
       "        vertical-align: top;\n",
       "    }\n",
       "\n",
       "    .dataframe thead th {\n",
       "        text-align: right;\n",
       "    }\n",
       "</style>\n",
       "<table border=\"1\" class=\"dataframe\">\n",
       "  <thead>\n",
       "    <tr style=\"text-align: right;\">\n",
       "      <th></th>\n",
       "      <th>year</th>\n",
       "      <th>n_sent</th>\n",
       "      <th>avg_len</th>\n",
       "      <th>constant</th>\n",
       "      <th>n_word</th>\n",
       "    </tr>\n",
       "    <tr>\n",
       "      <th>president</th>\n",
       "      <th></th>\n",
       "      <th></th>\n",
       "      <th></th>\n",
       "      <th></th>\n",
       "      <th></th>\n",
       "    </tr>\n",
       "  </thead>\n",
       "  <tbody>\n",
       "    <tr>\n",
       "      <th>Grover Cleveland</th>\n",
       "      <td>1890.5</td>\n",
       "      <td>386.375</td>\n",
       "      <td>39.879426</td>\n",
       "      <td>1.0</td>\n",
       "      <td>15125.5</td>\n",
       "    </tr>\n",
       "  </tbody>\n",
       "</table>\n",
       "</div>"
      ],
      "text/plain": [
       "                    year   n_sent    avg_len  constant   n_word\n",
       "president                                                      \n",
       "Grover Cleveland  1890.5  386.375  39.879426       1.0  15125.5"
      ]
     },
     "execution_count": 58,
     "metadata": {},
     "output_type": "execute_result"
    }
   ],
   "source": [
    "dfpre[dfpre[\"avg_len\"]==dfpre[\"avg_len\"].quantile(0.75)]"
   ]
  },
  {
   "cell_type": "markdown",
   "metadata": {},
   "source": [
    "James Madison has the longest sentences on average. George Bush has the shortest sentences. The median, 25% and 75% quantiles across all Presidents are Benjamin Harrison, Calvin Coolidge and Grover Cleveland respectively."
   ]
  },
  {
   "cell_type": "code",
   "execution_count": 62,
   "metadata": {},
   "outputs": [],
   "source": [
    "def findlongest(text):\n",
    "    sentlist = sent_tokenize(text)\n",
    "    longest = \"\"\n",
    "    for sent in sentlist:\n",
    "        if len(word_tokenize(longest))<=len(word_tokenize(sent)):\n",
    "            longest=sent\n",
    "        else:\n",
    "            longest=longest\n",
    "    return longest\n",
    "\n",
    "def findshortest(text):\n",
    "    sentlist = sent_tokenize(text)\n",
    "    shortest = \"Now, compute two regressions of the total number of words in a SOU versus year–one for the years 1790 to 1912, another for the years 1913 to the present.\"\n",
    "    for sent in sentlist:\n",
    "        if len(word_tokenize(shortest))>=len(word_tokenize(sent)):\n",
    "            shortest=sent\n",
    "        else:\n",
    "            shortest=shortest\n",
    "    return shortest"
   ]
  },
  {
   "cell_type": "code",
   "execution_count": 65,
   "metadata": {},
   "outputs": [],
   "source": [
    "df[\"long\"]=\" \"\n",
    "df[\"short\"]=\" \"\n",
    "i=0\n",
    "while i <226:    \n",
    "    df.at[i,\"long\"] = findlongest(df[\"text\"].values[i])\n",
    "    df.at[i,\"short\"] = findshortest(df[\"text\"].values[i])\n",
    "    i=i+1"
   ]
  },
  {
   "cell_type": "markdown",
   "metadata": {},
   "source": [
    "The shortest and longest sentence ever spoken (or written) in a SOU are as following:"
   ]
  },
  {
   "cell_type": "code",
   "execution_count": 73,
   "metadata": {},
   "outputs": [
    {
     "data": {
      "text/plain": [
       "array(['WASHINGTON', 'WASHINGTON', 'WASHINGTON', 'WASHINGTON',\n",
       "       'WASHINGTON', 'WASHINGTON', 'WASHINGTON', 'JOHN ADAMS',\n",
       "       'JOHN ADAMS', 'JOHN ADAMS',\n",
       "       'The negotiation on this subject is still depending.', 'JEFFERSON',\n",
       "       'JEFFERSON', 'JEFFERSON', 'JEFFERSON', 'JEFFERSON', 'JEFFERSON',\n",
       "       'JEFFERSON', 'JEFFERSON', 'JAMES MADISON', 'JAMES MADISON',\n",
       "       'JAMES MADISON', 'JAMES MADISON', 'JAMES MADISON', 'JAMES MADISON',\n",
       "       'JAMES MADISON', 'JAMES MADISON', 'JAMES MONROE', 'JAMES MONROE',\n",
       "       'JAMES MONROE', 'JAMES MONROE', 'JAMES MONROE', 'JAMES MONROE',\n",
       "       'JAMES MONROE', 'JAMES MONROE', 'JOHN QUINCY ADAMS',\n",
       "       'JOHN QUINCY ADAMS', 'JOHN QUINCY ADAMS', 'JOHN QUINCY ADAMS',\n",
       "       'ANDREW JACKSON', 'ANDREW JACKSON', 'ANDREW JACKSON',\n",
       "       'ANDREW JACKSON', 'ANDREW JACKSON', 'ANDREW JACKSON',\n",
       "       'ANDREW JACKSON', 'ANDREW JACKSON', 'M. VAN BUREN', 'M. VAN BUREN',\n",
       "       'M. VAN BUREN', 'M. VAN BUREN', 'JOHN TYLER', 'JOHN TYLER',\n",
       "       'JOHN TYLER', 'JOHN TYLER', 'JAMES K. POLK', '08.',\n",
       "       'JAMES K. POLK', 'JAMES K. POLK', 'Z. TAYLOR.', 'MILLARD FILLMORE',\n",
       "       'MILLARD FILLMORE', 'MILLARD FILLMORE', 'FRANKLIN PIERCE',\n",
       "       'FRANKLIN PIERCE', 'FRANKLIN PIERCE', 'FRANKLIN PIERCE',\n",
       "       'JAMES BUCHANAN', 'JAMES BUCHANAN', 'JAMES BUCHANAN', '3.',\n",
       "       'ABRAHAM LINCOLN', 'ABRAHAM LINCOLN', 'ABRAHAM LINCOLN',\n",
       "       'The war continues.', 'ANDREW JOHNSON', 'ANDREW JOHNSON',\n",
       "       'ANDREW JOHNSON', 'ANDREW JOHNSON', 'U. S. GRANT', 'U. S. GRANT',\n",
       "       'Neither came.', 'AGRICULTURE\\r\\n\\r\\n .', 'Second.', 'U. S. GRANT',\n",
       "       'Fifth.', 'Third.', 'Fifth.', '7.', 'RUTHERFORD B. HAYES',\n",
       "       'RUTHERFORD B. HAYES', '3.', '.', 'CHESTER A. ARTHUR', 'Fourthly.',\n",
       "       'GROVER CLEVELAND', 'GROVER CLEVELAND', 'GROVER CLEVELAND',\n",
       "       'GROVER CLEVELAND', 'HARRISON', 'HARRISON', 'HARRISON', 'HARRISON',\n",
       "       'GROVER CLEVELAND', 'GROVER CLEVELAND', 'GROVER CLEVELAND',\n",
       "       'GROVER CLEVELAND', 'WILLIAM MCKINLEY', 'WILLIAM MCKINLEY',\n",
       "       'WILLIAM MCKINLEY', 'WILLIAM MCKINLEY', 'THEODORE ROOSEVELT',\n",
       "       'THEODORE ROOSEVELT', 'THEODORE ROOSEVELT', 'THEODORE ROOSEVELT',\n",
       "       'THEODORE ROOSEVELT', 'THEODORE ROOSEVELT', 'THEODORE ROOSEVELT',\n",
       "       'CUBA\\r\\n\\r\\n .', 'CONCLUSION\\r\\n\\r\\n .',\n",
       "       'REFORESTATION\\r\\n\\r\\n .', 'men.', '0.',\n",
       "       'Social justice comes first.', 'It is not new.',\n",
       "       'This is Pan-Americanism.', 'We ought to do it at once.',\n",
       "       'It is not.', 'We knew that already.', 'It must be constructive.',\n",
       "       'Savings Certificates.', 'Manifestly the.', 'not of dictation.',\n",
       "       'pollution.', 'Economy reaches everywhere.', 'While steam.',\n",
       "       'Constitution.', 'Gen. Leonard Wood.', 'enterprise.',\n",
       "       'Wages should remain stable.',\n",
       "       'The whole subject requires exhaustive reconsideration.',\n",
       "       'I renew the recommendation.', 'Therein lie large economies.', '.',\n",
       "       '3.', '.', 'has been outlawed.', 'Why?', '.',\n",
       "       'We are in such a time today.',\n",
       "       'I have called for personal sacrifice.', '.', 'We failed.',\n",
       "       'Hull.', 'And we must succeed.', '7.', '590.)',\n",
       "       'Food costs too much.', 'Building costs must be lowered.',\n",
       "       'We will not fail them.', 'They encourage sabotage.',\n",
       "       'We are Americans.', 'HARRY S. TRUMAN', 'X.', 'III.',\n",
       "       'DWIGHT D. EISENHOWER', 'DWIGHT D. EISENHOWER',\n",
       "       'DWIGHT D. EISENHOWER', '8.', 'IV.', 'DWIGHT D. EISENHOWER',\n",
       "       'DWIGHT D. EISENHOWER', 'IV.', 'X.', 'IX.', 'IX.', 'III.', 'Thus.',\n",
       "       '.', 'Prices are rising.', '.', 'We have such a cause.',\n",
       "       'Change is hard.', 'Programs are important.',\n",
       "       'I believe that we can.', 'America has changed.', 'Thank you.',\n",
       "       'But we try.', 'Amen.', 'Thank you very much.',\n",
       "       'This is paramount.', 'Eliminate waste.', 'They will not.', '.',\n",
       "       '.', 'I misspoke there.', '.', 'Charters.', 'This is reality.',\n",
       "       'Why?', 'We support the Mujahidin.', 'Thank you.', 'Of course.',\n",
       "       'Some should decrease.', 'Thank you.', 'Thank you.', 'I said no.',\n",
       "       '.', 'Thank you.', 'Please stand up.', 'The President.',\n",
       "       'Captain Taliaferro.', '.', 'Thank you all.', 'May God bless.',\n",
       "       'But why?', 'Exports are growing.',\n",
       "       'That was the real occupation.', 'Welcome.', 'God bless.',\n",
       "       'God bless America.', 'Thank you.', '.', 'Thank you.',\n",
       "       'Absolutely.', 'No drama.'], dtype=object)"
      ]
     },
     "execution_count": 73,
     "metadata": {},
     "output_type": "execute_result"
    }
   ],
   "source": [
    "df[\"short\"].values"
   ]
  },
  {
   "cell_type": "code",
   "execution_count": 80,
   "metadata": {},
   "outputs": [],
   "source": [
    "shortest = \"Why\"\n",
    "for sent in df[\"short\"].values:\n",
    "    if sent != \".\":\n",
    "        if len(word_tokenize(shortest))>len(word_tokenize(sent)):\n",
    "            shortest=sent\n",
    "        else:\n",
    "            shortest=shortest\n",
    "    else:\n",
    "        shortest=shortest\n",
    "        \n"
   ]
  },
  {
   "cell_type": "code",
   "execution_count": 81,
   "metadata": {},
   "outputs": [
    {
     "data": {
      "text/plain": [
       "'Why'"
      ]
     },
     "execution_count": 81,
     "metadata": {},
     "output_type": "execute_result"
    }
   ],
   "source": [
    "#shortest sentence\n",
    "shortest"
   ]
  },
  {
   "cell_type": "code",
   "execution_count": 82,
   "metadata": {},
   "outputs": [],
   "source": [
    "longest = \"\"\n",
    "for sent in df[\"long\"].values:\n",
    "    if len(word_tokenize(longest))<=len(word_tokenize(sent)):\n",
    "        longest=sent\n",
    "    else:\n",
    "        longest=longest\n"
   ]
  },
  {
   "cell_type": "code",
   "execution_count": 83,
   "metadata": {},
   "outputs": [
    {
     "data": {
      "text/plain": [
       "'It shows that the ordinary revenues from all sources for the fiscal year ended June 30, 1883, amounted to $398,287,581.95, whereof there was received--\\r\\n\\r\\n \\r\\n\\r\\n \\r\\n\\r\\n \\r\\n\\r\\n \\r\\n\\r\\n From customs\\r\\n\\r\\n \\r\\n\\r\\n $214,706,496.93\\r\\n\\r\\n \\r\\n\\r\\n \\r\\n\\r\\n \\r\\n\\r\\n From internal revenue\\r\\n\\r\\n \\r\\n\\r\\n 144,720,368.98\\r\\n\\r\\n \\r\\n\\r\\n \\r\\n\\r\\n \\r\\n\\r\\n From sales of public lands\\r\\n\\r\\n \\r\\n\\r\\n 7,955,864.42\\r\\n\\r\\n \\r\\n\\r\\n \\r\\n\\r\\n \\r\\n\\r\\n From tax on circulation and deposits of national banks\\r\\n\\r\\n \\r\\n\\r\\n 9,111,008.85\\r\\n\\r\\n \\r\\n\\r\\n \\r\\n\\r\\n \\r\\n\\r\\n From profits on coinage, bullion deposits, and assays\\r\\n\\r\\n \\r\\n\\r\\n 4,460,205.17\\r\\n\\r\\n \\r\\n\\r\\n \\r\\n\\r\\n \\r\\n\\r\\n From other sources\\r\\n\\r\\n \\r\\n\\r\\n 17,333,637.60\\r\\n\\r\\n \\r\\n\\r\\n \\r\\n\\r\\n \\r\\n\\r\\n \\r\\n\\r\\n Total\\r\\n\\r\\n \\r\\n\\r\\n \\r\\n\\r\\n \\r\\n\\r\\n 398,287,581.95\\r\\n\\r\\n \\r\\n\\r\\n \\r\\n\\r\\n \\r\\n\\r\\n \\r\\n\\r\\n \\r\\n\\r\\n \\r\\n\\r\\nFor the same period the ordinary expenditures were:\\r\\n\\r\\n \\r\\n\\r\\n \\r\\n\\r\\n \\r\\n\\r\\n \\r\\n\\r\\n For civil expenses\\r\\n\\r\\n \\r\\n\\r\\n $22,343,285.76\\r\\n\\r\\n \\r\\n\\r\\n \\r\\n\\r\\n \\r\\n\\r\\n For foreign intercourse\\r\\n\\r\\n \\r\\n\\r\\n 2,419,275.24\\r\\n\\r\\n \\r\\n\\r\\n \\r\\n\\r\\n \\r\\n\\r\\n For Indians\\r\\n\\r\\n \\r\\n\\r\\n 7,362,590.34\\r\\n\\r\\n \\r\\n\\r\\n \\r\\n\\r\\n \\r\\n\\r\\n For Pensions\\r\\n\\r\\n \\r\\n\\r\\n 66,012,573.64\\r\\n\\r\\n \\r\\n\\r\\n \\r\\n\\r\\n \\r\\n\\r\\n For the military establishment, including river and harbor\\r\\n\\r\\n improvements and arsenals\\r\\n\\r\\n \\r\\n\\r\\n 48,911,382.93\\r\\n\\r\\n \\r\\n\\r\\n \\r\\n\\r\\n \\r\\n\\r\\n For the naval establishment, including vessels, machinery,\\r\\n\\r\\n and improvements at navy-yards\\r\\n\\r\\n \\r\\n\\r\\n 15,283,437.17\\r\\n\\r\\n \\r\\n\\r\\n \\r\\n\\r\\n \\r\\n\\r\\n For miscellaneous expenditures, including public buildings,\\r\\n\\r\\n light-houses, and collecting the revenue\\r\\n\\r\\n \\r\\n\\r\\n 40,098,432.73\\r\\n\\r\\n \\r\\n\\r\\n \\r\\n\\r\\n \\r\\n\\r\\n For expenditures on account of the District of Columbia\\r\\n\\r\\n \\r\\n\\r\\n 3,817,028.48\\r\\n\\r\\n \\r\\n\\r\\n \\r\\n\\r\\n \\r\\n\\r\\n For interest on the public debt\\r\\n\\r\\n \\r\\n\\r\\n 59,160,131.25\\r\\n\\r\\n \\r\\n\\r\\n \\r\\n\\r\\n \\r\\n\\r\\n \\r\\n\\r\\n Total\\r\\n\\r\\n \\r\\n\\r\\n \\r\\n\\r\\n \\r\\n\\r\\n 265,408,137.54\\r\\n\\r\\n \\r\\n\\r\\n \\r\\n\\r\\n \\r\\n\\r\\n \\r\\n\\r\\n \\r\\n\\r\\n \\r\\n\\r\\nLeaving a surplus revenue of $132,879,444.41, which, with an amount drawn from the cash balance in the Treasury of $1,299,312.55, making $134,178,756.96, was applied to the redemption--\\r\\n\\r\\n \\r\\n\\r\\n \\r\\n\\r\\n \\r\\n\\r\\n \\r\\n\\r\\n Of bonds for the sinking fund\\r\\n\\r\\n \\r\\n\\r\\n $44,850,700.00\\r\\n\\r\\n \\r\\n\\r\\n \\r\\n\\r\\n \\r\\n\\r\\n Of fractional currency for the sinking fund\\r\\n\\r\\n \\r\\n\\r\\n 46,556.96\\r\\n\\r\\n \\r\\n\\r\\n \\r\\n\\r\\n \\r\\n\\r\\n Of funded loan of 1881, continued at 3 12 per cent\\r\\n\\r\\n \\r\\n\\r\\n 65,380,250.00\\r\\n\\r\\n \\r\\n\\r\\n \\r\\n\\r\\n \\r\\n\\r\\n Of loan of July and August, 1861, continued at 3 1/2 per cent\\r\\n\\r\\n \\r\\n\\r\\n 20,594,600.00\\r\\n\\r\\n \\r\\n\\r\\n \\r\\n\\r\\n \\r\\n\\r\\n Of funded loan of 1907\\r\\n\\r\\n \\r\\n\\r\\n 1,418,850.00\\r\\n\\r\\n \\r\\n\\r\\n \\r\\n\\r\\n \\r\\n\\r\\n Of funded loan of 1881\\r\\n\\r\\n \\r\\n\\r\\n 719,150.00\\r\\n\\r\\n \\r\\n\\r\\n \\r\\n\\r\\n \\r\\n\\r\\n Of loan of February, 1861\\r\\n\\r\\n \\r\\n\\r\\n 18,000.00\\r\\n\\r\\n \\r\\n\\r\\n \\r\\n\\r\\n \\r\\n\\r\\n Of loan of July and August, 1861\\r\\n\\r\\n \\r\\n\\r\\n 266,600.00\\r\\n\\r\\n \\r\\n\\r\\n \\r\\n\\r\\n \\r\\n\\r\\n Of loan of March, 1863\\r\\n\\r\\n \\r\\n\\r\\n 116,850.00\\r\\n\\r\\n \\r\\n\\r\\n \\r\\n\\r\\n \\r\\n\\r\\n Of loan of July, 1882\\r\\n\\r\\n \\r\\n\\r\\n 47,650.00\\r\\n\\r\\n \\r\\n\\r\\n \\r\\n\\r\\n \\r\\n\\r\\n Of five-twenties of 1862\\r\\n\\r\\n \\r\\n\\r\\n 10,300.00\\r\\n\\r\\n \\r\\n\\r\\n \\r\\n\\r\\n \\r\\n\\r\\n Of five-twenties of 1864\\r\\n\\r\\n \\r\\n\\r\\n 7,050.00\\r\\n\\r\\n \\r\\n\\r\\n \\r\\n\\r\\n \\r\\n\\r\\n Of five-twenties of 1865\\r\\n\\r\\n \\r\\n\\r\\n 9,600.00\\r\\n\\r\\n \\r\\n\\r\\n \\r\\n\\r\\n \\r\\n\\r\\n Of ten-forties of 1864\\r\\n\\r\\n \\r\\n\\r\\n 133,550.00\\r\\n\\r\\n \\r\\n\\r\\n \\r\\n\\r\\n \\r\\n\\r\\n Of consols of 1865\\r\\n\\r\\n \\r\\n\\r\\n 40,800.00\\r\\n\\r\\n \\r\\n\\r\\n \\r\\n\\r\\n \\r\\n\\r\\n Of consols of 1867\\r\\n\\r\\n \\r\\n\\r\\n 235,700.00\\r\\n\\r\\n \\r\\n\\r\\n \\r\\n\\r\\n \\r\\n\\r\\n Of consols of 1868\\r\\n\\r\\n \\r\\n\\r\\n 154,650.00\\r\\n\\r\\n \\r\\n\\r\\n \\r\\n\\r\\n \\r\\n\\r\\n Of Oregon War debt\\r\\n\\r\\n \\r\\n\\r\\n 5,450.00\\r\\n\\r\\n \\r\\n\\r\\n \\r\\n\\r\\n \\r\\n\\r\\n Of refunding certificates\\r\\n\\r\\n \\r\\n\\r\\n 109,150.00\\r\\n\\r\\n \\r\\n\\r\\n \\r\\n\\r\\n \\r\\n\\r\\n Of old demand, compound-interest and other notes\\r\\n\\r\\n \\r\\n\\r\\n 13,300.00\\r\\n\\r\\n \\r\\n\\r\\n \\r\\n\\r\\n \\r\\n\\r\\n \\r\\n\\r\\n Total\\r\\n\\r\\n \\r\\n\\r\\n \\r\\n\\r\\n \\r\\n\\r\\n 134,178,756.96\\r\\n\\r\\n \\r\\n\\r\\n \\r\\n\\r\\n \\r\\n\\r\\n \\r\\n\\r\\n \\r\\n\\r\\n \\r\\n\\r\\nThe revenue for the present fiscal year, actual and estimated, is as follows:\\r\\n\\r\\n \\r\\n\\r\\n \\r\\n\\r\\n \\r\\n\\r\\n \\r\\n\\r\\n \\r\\n\\r\\n \\r\\n\\r\\n Source\\r\\n\\r\\n \\r\\n\\r\\n \\r\\n\\r\\n \\r\\n\\r\\n \\r\\n\\r\\n \\r\\n\\r\\n For the quarter ended September 30, 1883 (actual)\\r\\n\\r\\n \\r\\n\\r\\n \\r\\n\\r\\n \\r\\n\\r\\n \\r\\n\\r\\n \\r\\n\\r\\n For the remaining three quarters of the year (estimated)\\r\\n\\r\\n \\r\\n\\r\\n \\r\\n\\r\\n \\r\\n\\r\\n \\r\\n\\r\\n \\r\\n\\r\\n From customs\\r\\n\\r\\n \\r\\n\\r\\n $57,402,975.67\\r\\n\\r\\n \\r\\n\\r\\n $137,597,024.33\\r\\n\\r\\n \\r\\n\\r\\n \\r\\n\\r\\n \\r\\n\\r\\n From internal revenue\\r\\n\\r\\n \\r\\n\\r\\n 29,662,078.60\\r\\n\\r\\n \\r\\n\\r\\n 90,337,921.40\\r\\n\\r\\n \\r\\n\\r\\n \\r\\n\\r\\n \\r\\n\\r\\n From sales of public lands\\r\\n\\r\\n \\r\\n\\r\\n 2,932,635.17\\r\\n\\r\\n \\r\\n\\r\\n 5,067,634.83\\r\\n\\r\\n \\r\\n\\r\\n \\r\\n\\r\\n \\r\\n\\r\\n From tax on circulation and deposits of national banks\\r\\n\\r\\n \\r\\n\\r\\n 1,557,800.88\\r\\n\\r\\n \\r\\n\\r\\n 1,542,199.12\\r\\n\\r\\n \\r\\n\\r\\n \\r\\n\\r\\n \\r\\n\\r\\n From repayment of interest and sinking fund, Pacific\\r\\n\\r\\n Railway companies\\r\\n\\r\\n \\r\\n\\r\\n 521,059.51\\r\\n\\r\\n \\r\\n\\r\\n 1,478,940.49\\r\\n\\r\\n \\r\\n\\r\\n \\r\\n\\r\\n \\r\\n\\r\\n From customs fees, fines, penalties, etc\\r\\n\\r\\n \\r\\n\\r\\n 298,696.78\\r\\n\\r\\n \\r\\n\\r\\n 901,303.22\\r\\n\\r\\n \\r\\n\\r\\n \\r\\n\\r\\n \\r\\n\\r\\n From fees--consular, letters patent, and lands\\r\\n\\r\\n \\r\\n\\r\\n 863,209.80\\r\\n\\r\\n \\r\\n\\r\\n 2,436,790.20\\r\\n\\r\\n \\r\\n\\r\\n \\r\\n\\r\\n \\r\\n\\r\\n From proceeds of sales of Government property\\r\\n\\r\\n \\r\\n\\r\\n 112,562.23\\r\\n\\r\\n \\r\\n\\r\\n 167,437.77\\r\\n\\r\\n \\r\\n\\r\\n \\r\\n\\r\\n \\r\\n\\r\\n From profits on coinage, etc\\r\\n\\r\\n \\r\\n\\r\\n 950,229.46\\r\\n\\r\\n \\r\\n\\r\\n 3,149,770.54\\r\\n\\r\\n \\r\\n\\r\\n \\r\\n\\r\\n \\r\\n\\r\\n From deposits for surveying public lands\\r\\n\\r\\n \\r\\n\\r\\n 172,461.31\\r\\n\\r\\n \\r\\n\\r\\n 327,538.69\\r\\n\\r\\n \\r\\n\\r\\n \\r\\n\\r\\n \\r\\n\\r\\n From revenues of the District of Columbia\\r\\n\\r\\n \\r\\n\\r\\n 256,017.99\\r\\n\\r\\n \\r\\n\\r\\n 1,643,982.01\\r\\n\\r\\n \\r\\n\\r\\n \\r\\n\\r\\n \\r\\n\\r\\n From miscellaneous sources\\r\\n\\r\\n \\r\\n\\r\\n 1,237,189.63\\r\\n\\r\\n \\r\\n\\r\\n 2,382,810.37\\r\\n\\r\\n \\r\\n\\r\\n \\r\\n\\r\\n \\r\\n\\r\\n \\r\\n\\r\\n Total receipts\\r\\n\\r\\n \\r\\n\\r\\n \\r\\n\\r\\n \\r\\n\\r\\n 95,966,917.03\\r\\n\\r\\n \\r\\n\\r\\n \\r\\n\\r\\n \\r\\n\\r\\n 247,033,082.97\\r\\n\\r\\n \\r\\n\\r\\n \\r\\n\\r\\n \\r\\n\\r\\n \\r\\n\\r\\n \\r\\n\\r\\n \\r\\n\\r\\nThe actual and estimated expenses for the same period are:\\r\\n\\r\\n \\r\\n\\r\\n \\r\\n\\r\\n \\r\\n\\r\\n \\r\\n\\r\\n \\r\\n\\r\\n \\r\\n\\r\\n Object\\r\\n\\r\\n \\r\\n\\r\\n \\r\\n\\r\\n \\r\\n\\r\\n \\r\\n\\r\\n \\r\\n\\r\\n For the quarter ended September 30, 1883 (actual)\\r\\n\\r\\n \\r\\n\\r\\n \\r\\n\\r\\n \\r\\n\\r\\n \\r\\n\\r\\n \\r\\n\\r\\n For the remaining three quarters of the year (estimated)\\r\\n\\r\\n \\r\\n\\r\\n \\r\\n\\r\\n \\r\\n\\r\\n \\r\\n\\r\\n \\r\\n\\r\\n For civil and miscellaneous expenses, including public buildings, light-houses, and collecting the revenue\\r\\n\\r\\n \\r\\n\\r\\n $15,385,799.42\\r\\n\\r\\n \\r\\n\\r\\n $51,114,200.58\\r\\n\\r\\n \\r\\n\\r\\n \\r\\n\\r\\n \\r\\n\\r\\n For Indians\\r\\n\\r\\n \\r\\n\\r\\n 2,623,390.54\\r\\n\\r\\n \\r\\n\\r\\n 4,126,609.46\\r\\n\\r\\n \\r\\n\\r\\n \\r\\n\\r\\n \\r\\n\\r\\n For pensions\\r\\n\\r\\n \\r\\n\\r\\n 16,285,261.98\\r\\n\\r\\n \\r\\n\\r\\n 53,714,738.02\\r\\n\\r\\n \\r\\n\\r\\n \\r\\n\\r\\n \\r\\n\\r\\n For military establishment, including fortifications, river and harbor improvements, and arsenals\\r\\n\\r\\n \\r\\n\\r\\n 13,512,204.33\\r\\n\\r\\n \\r\\n\\r\\n 26,487,795.67\\r\\n\\r\\n \\r\\n\\r\\n \\r\\n\\r\\n \\r\\n\\r\\n For naval establishment, including vessels and machinery, and improvements at navy-yards\\r\\n\\r\\n \\r\\n\\r\\n 4,199,299.69\\r\\n\\r\\n \\r\\n\\r\\n 12,300,700.31\\r\\n\\r\\n \\r\\n\\r\\n \\r\\n\\r\\n \\r\\n\\r\\n For expenditures on account of the District of Columbia\\r\\n\\r\\n \\r\\n\\r\\n 1,138,836.41\\r\\n\\r\\n \\r\\n\\r\\n 2,611,163.59\\r\\n\\r\\n \\r\\n\\r\\n \\r\\n\\r\\n \\r\\n\\r\\n For interest on the public debt\\r\\n\\r\\n \\r\\n\\r\\n 14,797,297.96\\r\\n\\r\\n \\r\\n\\r\\n 39,702,702.04\\r\\n\\r\\n \\r\\n\\r\\n \\r\\n\\r\\n \\r\\n\\r\\n \\r\\n\\r\\n \\r\\n\\r\\n Total ordinary expenditures\\r\\n\\r\\n \\r\\n\\r\\n \\r\\n\\r\\n \\r\\n\\r\\n \\r\\n\\r\\n \\r\\n\\r\\n 67,942,090.33\\r\\n\\r\\n \\r\\n\\r\\n \\r\\n\\r\\n \\r\\n\\r\\n \\r\\n\\r\\n \\r\\n\\r\\n 190,057,909.67\\r\\n\\r\\n \\r\\n\\r\\n \\r\\n\\r\\n \\r\\n\\r\\n \\r\\n\\r\\n \\r\\n\\r\\n \\r\\n\\r\\n \\r\\n\\r\\n \\r\\n\\r\\n \\r\\n\\r\\n \\r\\n\\r\\n Total receipts, actual and estimated\\r\\n\\r\\n \\r\\n\\r\\n $343,000,000.00\\r\\n\\r\\n \\r\\n\\r\\n \\r\\n\\r\\n \\r\\n\\r\\n Total expenditures, actual and estimated\\r\\n\\r\\n \\r\\n\\r\\n 258,000,000.00\\r\\n\\r\\n \\r\\n\\r\\n \\r\\n\\r\\n \\r\\n\\r\\n \\r\\n\\r\\n \\r\\n\\r\\n \\r\\n\\r\\n \\r\\n\\r\\n \\r\\n\\r\\n \\r\\n\\r\\n \\r\\n\\r\\n \\r\\n\\r\\n \\r\\n\\r\\n 85,000,000.00\\r\\n\\r\\n \\r\\n\\r\\n \\r\\n\\r\\n \\r\\n\\r\\n Estimated amount due the sinking fund\\r\\n\\r\\n \\r\\n\\r\\n 45,816,741.07\\r\\n\\r\\n \\r\\n\\r\\n \\r\\n\\r\\n \\r\\n\\r\\n \\r\\n\\r\\n \\r\\n\\r\\n \\r\\n\\r\\n \\r\\n\\r\\n \\r\\n\\r\\n \\r\\n\\r\\n \\r\\n\\r\\n Leaving a balance of\\r\\n\\r\\n \\r\\n\\r\\n 39,183,258.93\\r\\n\\r\\n \\r\\n\\r\\n \\r\\n\\r\\n \\r\\n\\r\\n \\r\\n\\r\\n \\r\\n\\r\\nIf the revenue for the fiscal year which will end on June 30, 1885, be estimated upon the basis of existing laws, the Secretary is of the opinion that for that year the receipts will exceed by $60,000,000 the ordinary expenditures including the amount devoted to the sinking fund.'"
      ]
     },
     "execution_count": 83,
     "metadata": {},
     "output_type": "execute_result"
    }
   ],
   "source": [
    "#longest sentence\n",
    "longest"
   ]
  },
  {
   "cell_type": "code",
   "execution_count": null,
   "metadata": {},
   "outputs": [],
   "source": []
  }
 ],
 "metadata": {
  "kernelspec": {
   "display_name": "Python 3",
   "language": "python",
   "name": "python3"
  },
  "language_info": {
   "codemirror_mode": {
    "name": "ipython",
    "version": 3
   },
   "file_extension": ".py",
   "mimetype": "text/x-python",
   "name": "python",
   "nbconvert_exporter": "python",
   "pygments_lexer": "ipython3",
   "version": "3.7.1"
  }
 },
 "nbformat": 4,
 "nbformat_minor": 2
}
